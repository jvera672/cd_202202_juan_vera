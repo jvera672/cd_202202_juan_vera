{
  "nbformat": 4,
  "nbformat_minor": 0,
  "metadata": {
    "colab": {
      "name": "practica_regresion_lineal.ipynb",
      "provenance": [],
      "authorship_tag": "ABX9TyOB+VmugTGbyXnNggUVraNL",
      "include_colab_link": true
    },
    "kernelspec": {
      "name": "python3",
      "display_name": "Python 3"
    },
    "language_info": {
      "name": "python"
    }
  },
  "cells": [
    {
      "cell_type": "markdown",
      "metadata": {
        "id": "view-in-github",
        "colab_type": "text"
      },
      "source": [
        "<a href=\"https://colab.research.google.com/github/jvera672/cd_202202_juan_vera/blob/main/practica_regresion_lineal.ipynb\" target=\"_parent\"><img src=\"https://colab.research.google.com/assets/colab-badge.svg\" alt=\"Open In Colab\"/></a>"
      ]
    },
    {
      "cell_type": "code",
      "execution_count": null,
      "metadata": {
        "id": "55NVHocwOUIv"
      },
      "outputs": [],
      "source": [
        "xData = [3, 7, 8, 2, 11, 6]\n",
        "yData = [17, 14, 14, 19, 6, 16]"
      ]
    },
    {
      "cell_type": "markdown",
      "source": [
        "## Calculo pendiente"
      ],
      "metadata": {
        "id": "mNDFi37LO4Dv"
      }
    },
    {
      "cell_type": "code",
      "source": [
        "mSum1 = 0\n",
        "mSum2 = sum(xData)\n",
        "mSum3 = sum(yData)\n",
        "mSum4 = 0\n",
        "numData = len(xData)\n",
        "for i in range(len(xData)):\n",
        "  mSum1 += xData[i] * yData[i]\n",
        "  mSum4 += (xData[i] ** 2)\n",
        "\n",
        "\n",
        "\n",
        "m = (numData*mSum1 - mSum2*mSum3)/(numData*mSum4 - (mSum2 ** 2))\n",
        "\n",
        "b = yData[0] - m*xData[0]\n",
        "\n",
        "print(\"Pendiente: \" + str(m) + \" | B: \" + str(b))"
      ],
      "metadata": {
        "colab": {
          "base_uri": "https://localhost:8080/"
        },
        "id": "T3-Aw7E0OkJ4",
        "outputId": "5fbe7000-d0b3-4c9b-aaff-0135f70fcff3"
      },
      "execution_count": null,
      "outputs": [
        {
          "output_type": "stream",
          "name": "stdout",
          "text": [
            "Pendiente: -1.2644376899696048 | B: 20.793313069908812\n"
          ]
        }
      ]
    }
  ]
}